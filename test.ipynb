{
 "cells": [
  {
   "cell_type": "code",
   "execution_count": null,
   "metadata": {},
   "outputs": [],
   "source": [
    "!pip install faiss-cpu"
   ]
  },
  {
   "cell_type": "code",
   "execution_count": 96,
   "metadata": {},
   "outputs": [
    {
     "data": {
      "text/plain": [
       "True"
      ]
     },
     "execution_count": 96,
     "metadata": {},
     "output_type": "execute_result"
    }
   ],
   "source": [
    "import os\n",
    "import faiss\n",
    "import openai\n",
    "import numpy as np\n",
    "import pandas as pd\n",
    "from dotenv import load_dotenv\n",
    "from langchain.chains import TransformChain\n",
    "from operator import itemgetter\n",
    "from langchain_openai import ChatOpenAI\n",
    "from langchain.schema import Document\n",
    "from langchain_openai.embeddings import OpenAIEmbeddings\n",
    "from langchain_community.vectorstores import FAISS\n",
    "from langchain_community.docstore.in_memory import InMemoryDocstore\n",
    "from langchain_community.document_loaders.csv_loader import CSVLoader\n",
    "from langchain.output_parsers.structured import (\n",
    "    ResponseSchema,\n",
    "    StructuredOutputParser,\n",
    ")\n",
    "from langchain_core.prompts import (\n",
    "    PromptTemplate,\n",
    ")\n",
    "from langchain_core.output_parsers import (\n",
    "    StrOutputParser,\n",
    ")\n",
    "\n",
    "# 환경변수 불러오기\n",
    "load_dotenv()"
   ]
  },
  {
   "cell_type": "code",
   "execution_count": 119,
   "metadata": {},
   "outputs": [
    {
     "data": {
      "text/plain": [
       "store_name                                                                웨스틴 조선 서울 조선델리\n",
       "category                                                                            베이커리\n",
       "new_open                                                                                \n",
       "rating                                                                           별점 4.57\n",
       "visited_review                                                                방문자 리뷰 754\n",
       "directions_text                                                                         \n",
       "store_id                                                                       558674555\n",
       "address                                             서울 중구 소공로 106 지하 1층, 웨스틴 조선 서울 저층 로비\n",
       "blog_review                                                                   블로그 리뷰 436\n",
       "phone_num                                                                    02-317-0022\n",
       "business_hours                         목\\n07:00 - 21:00\\n금\\n07:00 - 21:00\\n토\\n07:00 -...\n",
       "info                                      조선호텔 100년의 노하우와 전문 파티시에의 정성이 담긴 스위트 기프트 & 파티세리\n",
       "convenience_facilities_and_services                                     편의시설 및 서비스 정보 없음\n",
       "Parking                                                                             주차가능\n",
       "sns                                    https://www.josunhotel.com/hotel/westinSeoul.do\\n\n",
       "review_like_this_part_output           \"빵이 맛있어요\"이 키워드를 선택한 인원442\\n\"특별한 메뉴가 있어요\"이 키워드를...\n",
       "menu                                   바나나 케이크대표생 바나나가 들어간 시트에 바나나 크림을 발라 부드럽고 달콤한 풍미...\n",
       "Name: 3, dtype: object"
      ]
     },
     "execution_count": 119,
     "metadata": {},
     "output_type": "execute_result"
    }
   ],
   "source": [
    "data = pd.read_csv('./중구_소공동_카페1.csv', encoding='utf-8')\n",
    "data.iloc[3]"
   ]
  },
  {
   "cell_type": "code",
   "execution_count": 107,
   "metadata": {},
   "outputs": [],
   "source": [
    "def split_into_domains(document):\n",
    "    # Extract metadata and content\n",
    "    metadata = document.metadata  # Use direct attribute access\n",
    "    content = document.page_content  # Use direct attribute access\n",
    "\n",
    "    # Parse content into structured data\n",
    "    structured_data = {}\n",
    "    for line in content.split(\"\\n\"):\n",
    "        if \":\" in line:\n",
    "            key, value = line.split(\":\", 1)\n",
    "            structured_data[key.strip()] = value.strip()\n",
    "\n",
    "    # Create domain-specific metadata\n",
    "    domains = {\n",
    "        \"store_info\": {\n",
    "            \"store_name\": structured_data.get(\"store_name\"),\n",
    "            \"category\": structured_data.get(\"category\", \"\").split(\",\"),\n",
    "            \"rating\": structured_data.get(\"rating\"),\n",
    "            \"address\": structured_data.get(\"address\"),\n",
    "            \"phone_num\": structured_data.get(\"phone_num\"),\n",
    "            \"sns\": structured_data.get(\"sns\"),\n",
    "        },\n",
    "        \"business_info\": {\n",
    "            \"business_hours\": {\n",
    "                k.strip(): v.strip()\n",
    "                for k, v in zip(\n",
    "                    structured_data.get(\"business_hours\", \"\").split(\"\\n\")[::2],\n",
    "                    structured_data.get(\"business_hours\", \"\").split(\"\\n\")[1::2],\n",
    "                )\n",
    "            },\n",
    "            \"parking\": structured_data.get(\"parking\"),\n",
    "            \"convenience_facilities_and_services\": structured_data.get(\n",
    "                \"convenience_facilities_and_services\", \"\"\n",
    "            ).split(\"\\n\"),\n",
    "        },\n",
    "        \"review_info\": {\n",
    "            \"visited_review\": structured_data.get(\"visited_review\"),\n",
    "            \"blog_review\": structured_data.get(\"blog_review\"),\n",
    "            \"review_like_this_part_output\": structured_data.get(\"blog_review\"),\n",
    "        },\n",
    "    }\n",
    "\n",
    "    return domains"
   ]
  },
  {
   "cell_type": "code",
   "execution_count": 108,
   "metadata": {},
   "outputs": [],
   "source": [
    "# CSVLoader 클래스를 사용하여 CSV 파일 로드\n",
    "loader = CSVLoader(file_path='./중구_소공동_카페1.csv')  # CSV 파일 경로 지정\n",
    "\n",
    "# CSV 파일에서 데이터 내용 로드\n",
    "loaded_documents = loader.load()  # 로드된 데이터가 loaded_documents 변수에 저장\n",
    "\n",
    "# Split documents into domain-specific data\n",
    "domain_documents = [split_into_domains(document) for document in loaded_documents]\n",
    "\n",
    "# Convert documents to a format suitable for FAISS\n",
    "processed_documents = [\n",
    "    {\n",
    "        \"page_content\": \"\\n\".join(f\"{key}: {value}\" for key, value in domain.items() if value),\n",
    "        \"metadata\": {\"domain\": domain_name},\n",
    "    }\n",
    "    for document in domain_documents\n",
    "    for domain_name, domain in document.items()\n",
    "]\n",
    "\n",
    "# Embedding and FAISS indexing\n",
    "model_embedding = OpenAIEmbeddings(model='text-embedding-ada-002')\n",
    "db = FAISS.from_documents(\n",
    "    [Document(page_content=d[\"page_content\"], metadata=d[\"metadata\"]) for d in processed_documents],\n",
    "    embedding=model_embedding,\n",
    ")\n",
    "\n",
    "# Save FAISS index\n",
    "db.save_local(\"faiss_index\")"
   ]
  },
  {
   "cell_type": "code",
   "execution_count": 109,
   "metadata": {},
   "outputs": [
    {
     "name": "stdout",
     "output_type": "stream",
     "text": [
      "store_name: 덕수궁 카페 돌담콩\n",
      "category: ['크레페']\n",
      "rating: 별점 4.71\n",
      "address: 서울 중구 덕수궁길 9 현진빌딩 102호, 103호\n",
      "phone_num: 0507-1419-7729\n",
      "sns: https://blog.naver.com/doldamkong\n"
     ]
    }
   ],
   "source": [
    "retriever = db.as_retriever(\n",
    "    searcy_type='mmr',\n",
    "    search_kwargs={\n",
    "        'fetch_k': 20,        # mmr에 전달할 문서 수\n",
    "        'k': 6,               # 반환 문서 수\n",
    "        'lambda_mult': 0.25,  # 다양성 조정 파라미터\n",
    "        # 'filter': {'source': './data/keywords.txt'}        # 메타데이터 기반 필터링\n",
    "    }\n",
    ")\n",
    "answer = retriever.invoke('서울에 있는 카페 하나 추천해줘')\n",
    "print(answer[0].page_content)"
   ]
  },
  {
   "cell_type": "code",
   "execution_count": 122,
   "metadata": {},
   "outputs": [
    {
     "name": "stdout",
     "output_type": "stream",
     "text": [
      "Answer: \n",
      "커피앤시가렛에 대한 정보는 다음과 같습니다:\n",
      "\n",
      "- **가게 이름**: 커피앤시가렛\n",
      "- **카테고리**: 카페\n",
      "- **별점**: 4.43\n",
      "- **주소**: 서울 중구 서소문로 116 유원빌딩 17층 1706호\n",
      "- **전화번호**: 02-777-7557\n",
      "- **웹사이트**: [커피앤시가렛 웹사이트](http://coffeeandcigarettes.kr/)\n",
      "\n",
      "더 궁금한 점이 있다면 말씀해 주세요!\n"
     ]
    }
   ],
   "source": [
    "# question =  '''\n",
    "#             서울에 3박 4일동안 여행을 갈거야. 여행의 목적은 한국의 K-POP 관련 관광지를 방문하는 것이야. \n",
    "#             추천해줄 수 있어?\n",
    "#             '''\n",
    "\n",
    "question = '커피앤시가렛에 대한 정보를 알려줘'\n",
    "\n",
    "template = '''\n",
    "    너는 벡터 DB의 데이터만 사용해서 서울의 관광 일정을 추천해주는 봇이야.\n",
    "    사용자의 질문에 따라서 여러가지 서울의 관광지, 식당, 숙소, 쇼핑몰 등을 추천해야해.\n",
    "    처음에 사용자가 서울에 며칠동안 머무르는지 물어보고, 그에 따라서 관광 일정을 추천해주면 돼.\n",
    "    그 다음 사용자가 서울에 오는 이유에 대해 파악하고 그에 맞는 여행 일정을 추천해주면 돼.\n",
    "    대화하다가 추천한 여행 일정이 사용자의 마음에 들지 않아서 변경해달라고 하면 마음에 들지 않은 부분을\n",
    "    캐치하고 그 부분들만 수정해서 다시 추천해주면 돼.\n",
    "    일정 중간 중간 숙소나 식당, 쇼핑몰 등을 추천해주면 돼.\n",
    "\n",
    "    일정에 대해 서로 대화하다가 어떤 장소가 궁금해서 물어본다면 특정 장소의 정보들을 정확하게 알려줘.\n",
    "    (예:가게 정보, 메뉴, 별점, 위치, 연락처, 운영 시간, 리뷰 등)\n",
    "    여행 일정에 대한 동선이 웬만하면 짧도록 추천해줘.\n",
    "    언어는 사용자가 입력한 언어를 기준으로 알려줘. \n",
    "    화폐 기준도 사용자가 입력한 언어를 사용하는 국가의 화폐를 기준으로 적용해줘.\n",
    "\n",
    "    질문: {question}\n",
    "\n",
    "    내용: {reference}\n",
    "\n",
    "    언어: {language}\n",
    "'''\n",
    "\n",
    "prompt = PromptTemplate(\n",
    "    template=template,\n",
    "    input_variables=['question', 'reference', 'language'],\n",
    ")\n",
    "\n",
    "model = ChatOpenAI(model='gpt-4o-mini')\n",
    "parser = StrOutputParser()\n",
    "chain = (\n",
    "    {\n",
    "        'reference': itemgetter('question') | retriever,\n",
    "        'question': itemgetter('question'),\n",
    "        'language': itemgetter('language'),\n",
    "    }\n",
    "    | prompt\n",
    "    | model\n",
    "    | parser\n",
    ")\n",
    "\n",
    "# chain을 통해 question\n",
    "reference = chain.invoke(\n",
    "    {\n",
    "        'question': f'{question}',\n",
    "        'language': '한국어',\n",
    "    }\n",
    ")\n",
    "\n",
    "print(f\"Answer: \\n{reference}\")"
   ]
  },
  {
   "cell_type": "code",
   "execution_count": null,
   "metadata": {},
   "outputs": [],
   "source": []
  }
 ],
 "metadata": {
  "kernelspec": {
   "display_name": "django",
   "language": "python",
   "name": "python3"
  },
  "language_info": {
   "codemirror_mode": {
    "name": "ipython",
    "version": 3
   },
   "file_extension": ".py",
   "mimetype": "text/x-python",
   "name": "python",
   "nbconvert_exporter": "python",
   "pygments_lexer": "ipython3",
   "version": "3.10.15"
  }
 },
 "nbformat": 4,
 "nbformat_minor": 2
}
